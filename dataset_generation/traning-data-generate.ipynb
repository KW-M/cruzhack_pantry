{
 "cells": [
  {
   "cell_type": "markdown",
   "metadata": {},
   "source": [
    "## Introduction\n",
    "Greetings from the Kaggle bot! This is an automatically-generated kernel with starter code demonstrating how to read in the data and begin exploring. If you're inspired to dig deeper, click the blue \"Fork Notebook\" button at the top of this kernel to begin editing."
   ]
  },
  {
   "cell_type": "markdown",
   "metadata": {},
   "source": [
    "## Exploratory Analysis\n",
    "To begin this exploratory analysis, first import libraries and define functions for plotting the data using `matplotlib`. Depending on the data, not all plots will be made. (Hey, I'm just a simple kerneling bot, not a Kaggle Competitions Grandmaster!)"
   ]
  },
  {
   "cell_type": "code",
   "execution_count": null,
   "metadata": {
    "_kg_hide-input": false,
    "collapsed": false,
    "jupyter": {
     "outputs_hidden": false
    },
    "tags": []
   },
   "outputs": [
    {
     "ename": "",
     "evalue": "",
     "output_type": "error",
     "traceback": [
      "\u001b[1;31mRunning cells with 'Python 3.12.3' requires the ipykernel package.\n",
      "\u001b[1;31mRun the following command to install 'ipykernel' into the Python environment. \n",
      "\u001b[1;31mCommand: '/usr/local/bin/python3 -m pip install ipykernel -U --user --force-reinstall'"
     ]
    }
   ],
   "source": [
    "import numpy as np # linear algebra\n",
    "import os # accessing directory structure\n",
    "import pandas as pd # data processing, CSV file I/O (e.g. pd.read_csv)\n",
    "import hvplot.pandas  # noqa\n",
    "import json\n",
    "import ast\n",
    "import random\n",
    "hvplot.extension(\"bokeh\")"
   ]
  },
  {
   "cell_type": "markdown",
   "metadata": {},
   "source": [
    "There is 1 csv file in the current version of the dataset:\n"
   ]
  },
  {
   "cell_type": "code",
   "execution_count": null,
   "metadata": {
    "_kg_hide-input": false,
    "jupyter": {
     "source_hidden": true
    }
   },
   "outputs": [
    {
     "ename": "",
     "evalue": "",
     "output_type": "error",
     "traceback": [
      "\u001b[1;31mRunning cells with 'Python 3.12.3' requires the ipykernel package.\n",
      "\u001b[1;31mRun the following command to install 'ipykernel' into the Python environment. \n",
      "\u001b[1;31mCommand: '/usr/local/bin/python3 -m pip install ipykernel -U --user --force-reinstall'"
     ]
    }
   ],
   "source": [
    "# for dirname, _, filenames in os.walk('/kaggle/input'):\n",
    "#     for filename in filenames:\n",
    "#         print(os.path.join(dirname, filename))\n"
   ]
  },
  {
   "cell_type": "markdown",
   "metadata": {},
   "source": [
    "The next hidden code cells define functions for plotting data. Click on the \"Code\" button in the published kernel to reveal the hidden code."
   ]
  },
  {
   "cell_type": "code",
   "execution_count": null,
   "metadata": {
    "jupyter": {
     "source_hidden": true
    },
    "tags": []
   },
   "outputs": [
    {
     "ename": "",
     "evalue": "",
     "output_type": "error",
     "traceback": [
      "\u001b[1;31mRunning cells with 'Python 3.12.3' requires the ipykernel package.\n",
      "\u001b[1;31mRun the following command to install 'ipykernel' into the Python environment. \n",
      "\u001b[1;31mCommand: '/usr/local/bin/python3 -m pip install ipykernel -U --user --force-reinstall'"
     ]
    }
   ],
   "source": [
    "def uniques(duplicates): # From: https://www.reddit.com/r/Python/comments/jfx7wy/how_to_quickly_remove_duplicates_from_a_list/\n",
    "    unique = []\n",
    "    seen = set()\n",
    "    for element in duplicates:\n",
    "        if element not in seen:\n",
    "            unique.append(element)\n",
    "            seen.add(element)\n",
    "    return unique"
   ]
  },
  {
   "cell_type": "code",
   "execution_count": null,
   "metadata": {
    "_kg_hide-input": true,
    "jupyter": {
     "source_hidden": true
    }
   },
   "outputs": [
    {
     "ename": "",
     "evalue": "",
     "output_type": "error",
     "traceback": [
      "\u001b[1;31mRunning cells with 'Python 3.12.3' requires the ipykernel package.\n",
      "\u001b[1;31mRun the following command to install 'ipykernel' into the Python environment. \n",
      "\u001b[1;31mCommand: '/usr/local/bin/python3 -m pip install ipykernel -U --user --force-reinstall'"
     ]
    }
   ],
   "source": [
    "# Distribution graphs (histogram/bar graph) of column data\n",
    "def plotPerColumnDistribution(df, nGraphShown, nGraphPerRow):\n",
    "    nunique = df.nunique()\n",
    "    df = df[[col for col in df if nunique[col] > 1 and nunique[col] < 50]] # For displaying purposes, pick columns that have between 1 and 50 unique values\n",
    "    nRow, nCol = df.shape\n",
    "    columnNames = list(df)\n",
    "    nGraphRow = (nCol + nGraphPerRow - 1) / nGraphPerRow\n",
    "    plt.figure(num = None, figsize = (6 * nGraphPerRow, 8 * nGraphRow), dpi = 80, facecolor = 'w', edgecolor = 'k')\n",
    "    for i in range(min(nCol, nGraphShown)):\n",
    "        plt.subplot(nGraphRow, nGraphPerRow, i + 1)\n",
    "        columnDf = df.iloc[:, i]\n",
    "        if (not np.issubdtype(type(columnDf.iloc[0]), np.number)):\n",
    "            valueCounts = columnDf.value_counts()\n",
    "            valueCounts.plot.bar()\n",
    "        else:\n",
    "            columnDf.hist()\n",
    "        plt.ylabel('counts')\n",
    "        plt.xticks(rotation = 90)\n",
    "        plt.title(f'{columnNames[i]} (column {i})')\n",
    "    plt.tight_layout(pad = 1.0, w_pad = 1.0, h_pad = 1.0)\n",
    "    plt.show()\n"
   ]
  },
  {
   "cell_type": "code",
   "execution_count": null,
   "metadata": {
    "_kg_hide-input": true,
    "jupyter": {
     "source_hidden": true
    }
   },
   "outputs": [
    {
     "ename": "",
     "evalue": "",
     "output_type": "error",
     "traceback": [
      "\u001b[1;31mRunning cells with 'Python 3.12.3' requires the ipykernel package.\n",
      "\u001b[1;31mRun the following command to install 'ipykernel' into the Python environment. \n",
      "\u001b[1;31mCommand: '/usr/local/bin/python3 -m pip install ipykernel -U --user --force-reinstall'"
     ]
    }
   ],
   "source": [
    "# Correlation matrix\n",
    "def plotCorrelationMatrix(df, graphWidth):\n",
    "    filename = df.dataframeName\n",
    "    df = df.dropna('columns') # drop columns with NaN\n",
    "    df = df[[col for col in df if df[col].nunique() > 1]] # keep columns where there are more than 1 unique values\n",
    "    if df.shape[1] < 2:\n",
    "        print(f'No correlation plots shown: The number of non-NaN or constant columns ({df.shape[1]}) is less than 2')\n",
    "        return\n",
    "    corr = df.corr()\n",
    "    plt.figure(num=None, figsize=(graphWidth, graphWidth), dpi=80, facecolor='w', edgecolor='k')\n",
    "    corrMat = plt.matshow(corr, fignum = 1)\n",
    "    plt.xticks(range(len(corr.columns)), corr.columns, rotation=90)\n",
    "    plt.yticks(range(len(corr.columns)), corr.columns)\n",
    "    plt.gca().xaxis.tick_bottom()\n",
    "    plt.colorbar(corrMat)\n",
    "    plt.title(f'Correlation Matrix for {filename}', fontsize=15)\n",
    "    plt.show()\n"
   ]
  },
  {
   "cell_type": "code",
   "execution_count": null,
   "metadata": {
    "_kg_hide-input": true,
    "jupyter": {
     "source_hidden": true
    }
   },
   "outputs": [
    {
     "ename": "",
     "evalue": "",
     "output_type": "error",
     "traceback": [
      "\u001b[1;31mRunning cells with 'Python 3.12.3' requires the ipykernel package.\n",
      "\u001b[1;31mRun the following command to install 'ipykernel' into the Python environment. \n",
      "\u001b[1;31mCommand: '/usr/local/bin/python3 -m pip install ipykernel -U --user --force-reinstall'"
     ]
    }
   ],
   "source": [
    "# Scatter and density plots\n",
    "def plotScatterMatrix(df, plotSize, textSize):\n",
    "    df = df.select_dtypes(include =[np.number]) # keep only numerical columns\n",
    "    # Remove rows and columns that would lead to df being singular\n",
    "    df = df.dropna('columns')\n",
    "    df = df[[col for col in df if df[col].nunique() > 1]] # keep columns where there are more than 1 unique values\n",
    "    columnNames = list(df)\n",
    "    if len(columnNames) > 10: # reduce the number of columns for matrix inversion of kernel density plots\n",
    "        columnNames = columnNames[:10]\n",
    "    df = df[columnNames]\n",
    "    ax = pd.plotting.scatter_matrix(df, alpha=0.75, figsize=[plotSize, plotSize], diagonal='kde')\n",
    "    corrs = df.corr().values\n",
    "    for i, j in zip(*plt.np.triu_indices_from(ax, k = 1)):\n",
    "        ax[i, j].annotate('Corr. coef = %.3f' % corrs[i, j], (0.8, 0.2), xycoords='axes fraction', ha='center', va='center', size=textSize)\n",
    "    plt.suptitle('Scatter and Density Plot')\n",
    "    plt.show()\n"
   ]
  },
  {
   "cell_type": "markdown",
   "metadata": {},
   "source": [
    "Now you're ready to read in the data and use the plotting functions to visualize the data."
   ]
  },
  {
   "cell_type": "markdown",
   "metadata": {},
   "source": [
    "### Let's check 1st file: /kaggle/input/Food Ingredients and Recipe Dataset with Image Name Mapping.csv"
   ]
  },
  {
   "cell_type": "code",
   "execution_count": null,
   "metadata": {
    "_kg_hide-input": false,
    "collapsed": false,
    "jupyter": {
     "outputs_hidden": false
    }
   },
   "outputs": [
    {
     "ename": "",
     "evalue": "",
     "output_type": "error",
     "traceback": [
      "\u001b[1;31mRunning cells with 'Python 3.12.3' requires the ipykernel package.\n",
      "\u001b[1;31mRun the following command to install 'ipykernel' into the Python environment. \n",
      "\u001b[1;31mCommand: '/usr/local/bin/python3 -m pip install ipykernel -U --user --force-reinstall'"
     ]
    }
   ],
   "source": [
    "nRowsRead = 1000 # specify 'None' if want to read whole file\n",
    "# Food Ingredients and Recipe Dataset with Image Name Mapping.csv may have more rows in reality, but we are only loading/previewing the first 1000 rows\n",
    "df1 = pd.read_csv('Epicurious Recepies Kagle.csv', delimiter=',', nrows = nRowsRead)\n",
    "df1.dataframeName = 'Epicurious Recepies Kagle'\n",
    "nRow, nCol = df1.shape\n",
    "print(f'There are {nRow} rows and {nCol} columns')"
   ]
  },
  {
   "cell_type": "markdown",
   "metadata": {},
   "source": [
    "Let's take a quick look at what the data looks like:"
   ]
  },
  {
   "cell_type": "code",
   "execution_count": null,
   "metadata": {
    "_kg_hide-input": false,
    "collapsed": false,
    "jupyter": {
     "outputs_hidden": false
    },
    "tags": []
   },
   "outputs": [
    {
     "ename": "",
     "evalue": "",
     "output_type": "error",
     "traceback": [
      "\u001b[1;31mRunning cells with 'Python 3.12.3' requires the ipykernel package.\n",
      "\u001b[1;31mRun the following command to install 'ipykernel' into the Python environment. \n",
      "\u001b[1;31mCommand: '/usr/local/bin/python3 -m pip install ipykernel -U --user --force-reinstall'"
     ]
    }
   ],
   "source": [
    "df1.hvplot.table(height=600,fit_columns=True,width=2000)"
   ]
  },
  {
   "cell_type": "code",
   "execution_count": null,
   "metadata": {
    "tags": []
   },
   "outputs": [
    {
     "ename": "",
     "evalue": "",
     "output_type": "error",
     "traceback": [
      "\u001b[1;31mRunning cells with 'Python 3.12.3' requires the ipykernel package.\n",
      "\u001b[1;31mRun the following command to install 'ipykernel' into the Python environment. \n",
      "\u001b[1;31mCommand: '/usr/local/bin/python3 -m pip install ipykernel -U --user --force-reinstall'"
     ]
    }
   ],
   "source": [
    "df1.dtypes"
   ]
  },
  {
   "cell_type": "code",
   "execution_count": null,
   "metadata": {
    "tags": []
   },
   "outputs": [
    {
     "ename": "",
     "evalue": "",
     "output_type": "error",
     "traceback": [
      "\u001b[1;31mRunning cells with 'Python 3.12.3' requires the ipykernel package.\n",
      "\u001b[1;31mRun the following command to install 'ipykernel' into the Python environment. \n",
      "\u001b[1;31mCommand: '/usr/local/bin/python3 -m pip install ipykernel -U --user --force-reinstall'"
     ]
    }
   ],
   "source": [
    "parsed_ingredients = []\n",
    "parsed_diet_restrictions = []\n",
    "with open(\"recipe_food_items.json\", \"r\") as fh:\n",
    "    for line in fh.readlines():\n",
    "        line = line.rstrip(\"\\n\").rstrip(\",\")\n",
    "        result = json.loads(line)\n",
    "        output = []\n",
    "        for ingredient in result.get(\"ingredients\",[]):\n",
    "            parsed = ingredient.get(\"parsed\", [])\n",
    "            for parsed_ingredient in parsed:\n",
    "                food = parsed_ingredient.get(\"food\", None)\n",
    "                if food is None:\n",
    "                    continue\n",
    "                output += [food]\n",
    "        parsed_diet_restrictions.append(result.get(\"dietLabels\",[]) + result.get(\"healthLabels\",[]))\n",
    "        parsed_ingredients.append(output)\n",
    "# print(parsed_diet_restrictions)"
   ]
  },
  {
   "cell_type": "code",
   "execution_count": null,
   "metadata": {
    "tags": []
   },
   "outputs": [
    {
     "ename": "",
     "evalue": "",
     "output_type": "error",
     "traceback": [
      "\u001b[1;31mRunning cells with 'Python 3.12.3' requires the ipykernel package.\n",
      "\u001b[1;31mRun the following command to install 'ipykernel' into the Python environment. \n",
      "\u001b[1;31mCommand: '/usr/local/bin/python3 -m pip install ipykernel -U --user --force-reinstall'"
     ]
    }
   ],
   "source": [
    "all_ingredients = []\n",
    "\n",
    "for ingredient_list_str in parsed_ingredients:\n",
    "    all_ingredients += ingredient_list_str\n",
    "\n",
    "all_ingredients = uniques(all_ingredients)\n",
    "# print(all_ingredients)"
   ]
  },
  {
   "cell_type": "code",
   "execution_count": null,
   "metadata": {
    "tags": []
   },
   "outputs": [
    {
     "ename": "",
     "evalue": "",
     "output_type": "error",
     "traceback": [
      "\u001b[1;31mRunning cells with 'Python 3.12.3' requires the ipykernel package.\n",
      "\u001b[1;31mRun the following command to install 'ipykernel' into the Python environment. \n",
      "\u001b[1;31mCommand: '/usr/local/bin/python3 -m pip install ipykernel -U --user --force-reinstall'"
     ]
    }
   ],
   "source": [
    "food_details = {}\n",
    "with open(\"foods.json\", \"r\") as fh:\n",
    "    food_details = json.loads(fh.read())\n",
    "\n",
    "def get_human_readable_dietary_name(name):\n",
    "    return name.lower().replace(\"_\", \" \")\n",
    "\n",
    "get_human_readable_dietary_name(food_details[\"chicken\"][\"dietLabels\"][0])"
   ]
  },
  {
   "cell_type": "code",
   "execution_count": null,
   "metadata": {
    "tags": []
   },
   "outputs": [
    {
     "ename": "",
     "evalue": "",
     "output_type": "error",
     "traceback": [
      "\u001b[1;31mRunning cells with 'Python 3.12.3' requires the ipykernel package.\n",
      "\u001b[1;31mRun the following command to install 'ipykernel' into the Python environment. \n",
      "\u001b[1;31mCommand: '/usr/local/bin/python3 -m pip install ipykernel -U --user --force-reinstall'"
     ]
    }
   ],
   "source": [
    "def create_training_prompt_pair(title, ingredients, pure_ingredients, directions, diet_modifiers, num_required_ingredients_in_pantry = 4, num_extra_listed_pantry_ingredients = 3):\n",
    "    prompt = \"Food in my pantry:\\n\"\n",
    "\n",
    "    num_required_ingredients_in_pantry = min(len(pure_ingredients),num_required_ingredients_in_pantry)\n",
    "    pantry_ingredients = uniques(random.sample(pure_ingredients, num_required_ingredients_in_pantry))\n",
    "    while len(pantry_ingredients) < num_required_ingredients_in_pantry + num_extra_listed_pantry_ingredients:\n",
    "        pantry_ingredients += random.sample(all_ingredients, num_extra_listed_pantry_ingredients)\n",
    "        pantry_ingredients = uniques(pantry_ingredients)\n",
    "\n",
    "    diet_modifiers = set(diet_modifiers)\n",
    "\n",
    "    for pure_food in pantry_ingredients:\n",
    "        food_restrictions = set(food_details[pure_food].get(\"dietLabels\",[]))\n",
    "        # print(food_restrictions)\n",
    "        diet_modifiers = diet_modifiers.intersection(food_restrictions)\n",
    "\n",
    "    prompt += \", \".join([ p.strip() for p in pantry_ingredients]) + \"\\n\\n\"\n",
    "\n",
    "    if len(diet_modifiers) > 0:\n",
    "        prompt +=  \"Keywords:\\n\" + \", \".join([get_human_readable_dietary_name(diet) for diet in list(diet_modifiers)]) + \"\\n\\n\"\n",
    "\n",
    "    # prompt +=  \"Recipe Search: \" + \" \".join(random.sample(title,3)) + \"\\n\\n\"\n",
    "\n",
    "    response = title + \"\\n\\n\"\n",
    "\n",
    "    response += \"Ingredients:\\n\"\n",
    "    response += \"\\n\".join(ingredients)\n",
    "\n",
    "    response += \"\\n\\nDirections:\\n\"\n",
    "    response += directions\n",
    "\n",
    "    return (prompt, response)\n",
    "\n",
    "# diet_modifiers = [\"Vegetarian\", \"Vegan\", \"Paleo\", \"High Fiber\", \"High Protein\", \"Low Carb\", \"Low Fat\", \"Low Sodium\", \"Low Sugar\", \"Alcohol Free\", \"Balanced\"]\n",
    "# alergen_modifiers = [\"Gluten Free\",\"Dairy Free\",\"Egg Free\",\"Soy Free\",\"Wheat Free\",\"Fish Free\",\"Shellfish Free\",\"Tree Nut Free\",\"Peanut Free\"]\n",
    "\n",
    "def get_prompt_from_dataset(index = 0):\n",
    "    row = df1.iloc[index]\n",
    "    pure_ingredients = parsed_ingredients[index]\n",
    "    raw_diet_restrictions = parsed_diet_restrictions[index]\n",
    "\n",
    "\n",
    "    # print(parsed_ingredients)\n",
    "    num_diet_restrictions = random.randint(0, len(raw_diet_restrictions))\n",
    "    diet_restrictions = random.sample(raw_diet_restrictions, num_diet_restrictions)\n",
    "\n",
    "\n",
    "    title = str(row[\"Title\"])\n",
    "    instructions = str(row[\"Instructions\"])\n",
    "    cleaned_ingredients = ast.literal_eval(str(row[\"Cleaned_Ingredients\"]))\n",
    "    num_required_ingredients = len(cleaned_ingredients)\n",
    "    num_required_ingredients_in_pantry_u = random.randint(min(3,num_required_ingredients),num_required_ingredients)\n",
    "\n",
    "    (prompt,response) = create_training_prompt_pair(\n",
    "        title,\n",
    "        cleaned_ingredients,\n",
    "        pure_ingredients,\n",
    "        instructions,\n",
    "        diet_restrictions,\n",
    "        num_required_ingredients_in_pantry=num_required_ingredients_in_pantry_u,\n",
    "        num_extra_listed_pantry_ingredients=random.randint(1,10)\n",
    "    ) #num_required_ingredients_in_pantry=num_required_ingredients_in_pantry)\n",
    "\n",
    "    return (prompt, response)\n",
    "\n",
    "(p,r) = get_prompt_from_dataset(0)\n",
    "\n",
    "print(\"PROMPT:\")\n",
    "print(p)\n",
    "\n",
    "print(\"\\nDESIRED RESPONSE:\")\n",
    "print(r)"
   ]
  },
  {
   "cell_type": "code",
   "execution_count": null,
   "metadata": {
    "tags": []
   },
   "outputs": [
    {
     "ename": "",
     "evalue": "",
     "output_type": "error",
     "traceback": [
      "\u001b[1;31mRunning cells with 'Python 3.12.3' requires the ipykernel package.\n",
      "\u001b[1;31mRun the following command to install 'ipykernel' into the Python environment. \n",
      "\u001b[1;31mCommand: '/usr/local/bin/python3 -m pip install ipykernel -U --user --force-reinstall'"
     ]
    }
   ],
   "source": [
    "# # For GPT-3 training\n",
    "# with open(\"training_data.json\", \"w\") as fh:\n",
    "#     for i in range(df1.shape[0]):\n",
    "#         for v in range(3):\n",
    "#             (prompt, response) = get_prompt_from_dataset(i)\n",
    "#             fh.write(json.dumps({\"prompt\": prompt, \"completion\": response},ensure_ascii=False) + \"\\n\")\n",
    "#         fh.flush()"
   ]
  },
  {
   "cell_type": "code",
   "execution_count": null,
   "metadata": {},
   "outputs": [
    {
     "ename": "",
     "evalue": "",
     "output_type": "error",
     "traceback": [
      "\u001b[1;31mRunning cells with 'Python 3.12.3' requires the ipykernel package.\n",
      "\u001b[1;31mRun the following command to install 'ipykernel' into the Python environment. \n",
      "\u001b[1;31mCommand: '/usr/local/bin/python3 -m pip install ipykernel -U --user --force-reinstall'"
     ]
    }
   ],
   "source": [
    "# for CO:HERE training\n",
    "with open(\"cohere_training_data.txt\", \"w\") as fh:\n",
    "    for i in range(df1.shape[0]):\n",
    "        for v in range(3):\n",
    "            (prompt, response) = get_prompt_from_dataset(i)\n",
    "            fh.write(prompt + \"Recipe:\\n\" +response  + \"END\\n--S--\\n\")\n",
    "        fh.flush()"
   ]
  },
  {
   "cell_type": "code",
   "execution_count": null,
   "metadata": {
    "tags": []
   },
   "outputs": [
    {
     "ename": "",
     "evalue": "",
     "output_type": "error",
     "traceback": [
      "\u001b[1;31mRunning cells with 'Python 3.12.3' requires the ipykernel package.\n",
      "\u001b[1;31mRun the following command to install 'ipykernel' into the Python environment. \n",
      "\u001b[1;31mCommand: '/usr/local/bin/python3 -m pip install ipykernel -U --user --force-reinstall'"
     ]
    }
   ],
   "source": [
    "import time\n",
    "import requests\n",
    "\n",
    "num_completed = 0\n",
    "try:\n",
    "    with open(\"recipe_food_items.json\", \"r\") as fh:\n",
    "        a = \"[\" + fh.read().rstrip(\"\\n\").rstrip(\",\") + \"]\"\n",
    "        num_completed = len(json.loads(a))\n",
    "except FileNotFoundError:\n",
    "    pass\n",
    "\n",
    "print(\"num_completed\", num_completed)\n",
    "\n",
    "with open(\"recipe_food_items.json\", \"a\") as fh:\n",
    "    for i in range(num_completed, df1.shape[0]):\n",
    "        ingredients = df1.loc[i, 'Cleaned_Ingredients']\n",
    "        request_body = json.dumps({\"ingr\":ast.literal_eval(str(ingredients))})\n",
    "        r = requests.post(\"https://api.edamam.com/api/nutrition-details?app_id=47379841&app_key=d28718060b8adfd39783ead254df7f92\", data=request_body, headers={'content-type': 'application/json'})\n",
    "        try:\n",
    "            result = json.loads(r.text)\n",
    "            output = {}\n",
    "            output['dietLabels'] = result.get(\"dietLabels\",None)\n",
    "            output['healthLabels'] = result.get(\"healthLabels\",None)\n",
    "            output[\"cautions\"] = result.get(\"cautions\",None)\n",
    "            output[\"ingredients\"] = []\n",
    "            for ingredient in result.get(\"ingredients\",[]):\n",
    "                parsed = ingredient.get(\"parsed\", [])\n",
    "                parsed_out = []\n",
    "                for parsed_ingredient in parsed:\n",
    "                    parsed_out.append({\n",
    "                        \"quantity\": parsed_ingredient.get(\"quantity\", None),\n",
    "                        \"measure\": parsed_ingredient.get(\"measure\", None),\n",
    "                        \"foodMatch\": parsed_ingredient.get(\"foodMatch\", None),\n",
    "                        \"food\": parsed_ingredient.get(\"food\", None),\n",
    "                        \"foodId\": parsed_ingredient.get(\"foodId\", None)\n",
    "                    })\n",
    "                output[\"ingredients\"].append({\n",
    "                    \"text\": ingredient.get(\"text\", None),\n",
    "                    \"parsed\": parsed_out\n",
    "                })\n",
    "\n",
    "\n",
    "            print(\"Completed #\", i)\n",
    "            fh.write(json.dumps(output) + \",\\n\")\n",
    "            time.sleep(1)\n",
    "\n",
    "        except json.decoder.JSONDecodeError:\n",
    "            print(\"Got Invalid JSON\", r.text)\n",
    "            break\n",
    "        if result.get('ingredients',None) is None:\n",
    "            print(\"Got Wrong Response\", r.text, result)\n",
    "            break\n",
    "\n",
    "\n",
    "\n",
    "# for i in range():\n",
    "\n",
    "# \"https://api.edamam.com/api/nutrition-details?app_id=47379841&app_key=d28718060b8adfd39783ead254df7f92\", {\n",
    "#     \"referrer\": \"https://developer.edamam.com/\",\n",
    "#     \"body\": \"{\\\"ingr\\\":[\\\"¼ cup hazelnuts\\\",\\\"1 pound bow tie pasta (farfalle)\\\",\\\"8 tablespoons unsalted butter, plus more if needed\\\",\\\"4 cloves of garlic, minced\\\",\\\"Hefty pinch each of salt and freshly ground black pepper\\\",\\\"Small pinch of crushed red pepper flakes\\\",\\\"1 bunch Swiss chard, stems finely chopped and greens thinly sliced\\\",\\\"4 ounces Parmesan cheese, shaved\\\",\\\"2 tablespoons balsamic vinegar (optional)\\\"]}\",\n",
    "#     \"method\": \"POST\",\n",
    "#     \"mode\": \"cors\"\n",
    "# }"
   ]
  },
  {
   "cell_type": "code",
   "execution_count": null,
   "metadata": {},
   "outputs": [
    {
     "ename": "",
     "evalue": "",
     "output_type": "error",
     "traceback": [
      "\u001b[1;31mRunning cells with 'Python 3.12.3' requires the ipykernel package.\n",
      "\u001b[1;31mRun the following command to install 'ipykernel' into the Python environment. \n",
      "\u001b[1;31mCommand: '/usr/local/bin/python3 -m pip install ipykernel -U --user --force-reinstall'"
     ]
    }
   ],
   "source": [
    "def parse_user_input(input_string):\n",
    "    input_words = input_string.split()\n",
    "    request_body = json.dumps({\"ingr\":input_words})\n",
    "    r = requests.post(\"https://api.edamam.com/api/nutrition-details?app_id=47379841&app_key=d28718060b8adfd39783ead254df7f92\", data=request_body, headers={'content-type': 'application/json'})\n",
    "    try:\n",
    "        result = json.loads(r.text)\n",
    "        if result.get('ingredients',None) is None:\n",
    "            print(\"Got Wrong Response\", r.text, result)\n",
    "            return []\n",
    "        output = []\n",
    "        for ingredient in result.get(\"ingredients\",[]):\n",
    "            parsed = ingredient.get(\"parsed\", [])\n",
    "            for parsed_ingredient in parsed:\n",
    "                pure_ingredient = parsed_ingredient.get(\"food\", None)\n",
    "                if pure_ingredient is not None:\n",
    "                    output.append(pure_ingredient)\n",
    "\n",
    "\n",
    "        return output\n",
    "\n",
    "    except json.decoder.JSONDecodeError:\n",
    "        print(\"Got Invalid JSON\", r.text)\n",
    "        return []\n"
   ]
  },
  {
   "cell_type": "code",
   "execution_count": null,
   "metadata": {},
   "outputs": [
    {
     "ename": "",
     "evalue": "",
     "output_type": "error",
     "traceback": [
      "\u001b[1;31mRunning cells with 'Python 3.12.3' requires the ipykernel package.\n",
      "\u001b[1;31mRun the following command to install 'ipykernel' into the Python environment. \n",
      "\u001b[1;31mCommand: '/usr/local/bin/python3 -m pip install ipykernel -U --user --force-reinstall'"
     ]
    }
   ],
   "source": [
    "parse_user_input(\"I got roast turkey and half a cup of coffee. Also got creamer.\")"
   ]
  },
  {
   "cell_type": "code",
   "execution_count": null,
   "metadata": {
    "tags": []
   },
   "outputs": [
    {
     "ename": "",
     "evalue": "",
     "output_type": "error",
     "traceback": [
      "\u001b[1;31mRunning cells with 'Python 3.12.3' requires the ipykernel package.\n",
      "\u001b[1;31mRun the following command to install 'ipykernel' into the Python environment. \n",
      "\u001b[1;31mCommand: '/usr/local/bin/python3 -m pip install ipykernel -U --user --force-reinstall'"
     ]
    }
   ],
   "source": [
    "# diet_modifiers = [\"Vegetarian\", \"Vegan\", \"Paleo\", \"High Fiber\", \"High Protein\", \"Low Carb\", \"Low Fat\", \"Low Sodium\", \"Low Sugar\", \"Alcohol Free\", \"Balanced\"]\n",
    "# alergen_modifiers = [\"Gluten Free\",\"Dairy Free\",\"Egg Free\",\"Soy Free\",\"Wheat Free\",\"Fish Free\",\"Shellfish Free\",\"Tree Nut Free\",\"Peanut Free\"]\n",
    "\n",
    "diet_modifiers = [\"Vegetarian\", \"Vegan\", \"Paleo\", \"High Fiber\", \"High Protein\", \"Low Carb\", \"Low Fat\", \"Low Sodium\", \"Low Sugar\", \"Alcohol Free\", \"Balanced\"]\n",
    "alergen_modifiers = [\"Gluten Free\",\"Dairy Free\",\"Egg Free\",\"Soy Free\",\"Wheat Free\",\"Fish Free\",\"Shellfish Free\",\"Tree Nut Free\",\"Peanut Free\"]\n",
    "\n",
    "diet_modifiers = [\"Vegetarian\", \"Vegan\", \"Paleo\", \"High Fiber\", \"High Protein\", \"Low Carb\", \"Low Fat\", \"Low Sodium\", \"Low Sugar\", \"Alcohol Free\", \"Balanced\"]\n",
    "alergen_modifiers = [\"Gluten Free\",\"Dairy Free\",\"Egg Free\",\"Soy Free\",\"Wheat Free\",\"Fish Free\",\"Shellfish Free\",\"Tree Nut Free\",\"Peanut Free\"]"
   ]
  },
  {
   "cell_type": "code",
   "execution_count": null,
   "metadata": {
    "tags": []
   },
   "outputs": [
    {
     "ename": "",
     "evalue": "",
     "output_type": "error",
     "traceback": [
      "\u001b[1;31mRunning cells with 'Python 3.12.3' requires the ipykernel package.\n",
      "\u001b[1;31mRun the following command to install 'ipykernel' into the Python environment. \n",
      "\u001b[1;31mCommand: '/usr/local/bin/python3 -m pip install ipykernel -U --user --force-reinstall'"
     ]
    }
   ],
   "source": [
    "foods = {}\n",
    "\n",
    "with open(\"recipe_food_items.json\", \"r\") as fh:\n",
    "    for line in fh.readlines():\n",
    "        line = line.rstrip(\"\\n\").rstrip(\",\")\n",
    "        result = json.loads(line)\n",
    "\n",
    "        diet_labels = set(result.get(\"dietLabels\",[]) + result.get(\"healthLabels\",[]))\n",
    "        # print(diet_labels)\n",
    "        for ingredient in result.get(\"ingredients\",[]):\n",
    "            parsed = ingredient.get(\"parsed\", [])\n",
    "            for parsed_ingredient in parsed:\n",
    "                food = parsed_ingredient.get(\"food\", None)\n",
    "                foodLabel = parsed_ingredient.get(\"foodMatch\", None)\n",
    "                if food is None:\n",
    "                    continue\n",
    "                if food not in foods:\n",
    "                    foodLabels = set()\n",
    "                    foodLabels.add(food)\n",
    "                    foods[food] = {\n",
    "                        \"dietLabels\": set().union(diet_labels),\n",
    "                        \"foodLabelAsFound\": foodLabels\n",
    "                    }\n",
    "                else:\n",
    "                    foods[food][\"dietLabels\"] = foods[food][\"dietLabels\"].union(diet_labels)\n",
    "                    foods[food][\"foodLabelAsFound\"].add(food)\n",
    "\n",
    "for food in foods:\n",
    "    foods[food][\"dietLabels\"] = list(foods[food][\"dietLabels\"])\n",
    "    foods[food][\"foodLabelAsFound\"] = list(foods[food][\"foodLabelAsFound\"])\n",
    "\n",
    "with open(\"foods.json\", \"w\") as fh:\n",
    "    json.dump(foods, fh)\n"
   ]
  },
  {
   "cell_type": "code",
   "execution_count": null,
   "metadata": {},
   "outputs": [
    {
     "ename": "",
     "evalue": "",
     "output_type": "error",
     "traceback": [
      "\u001b[1;31mRunning cells with 'Python 3.12.3' requires the ipykernel package.\n",
      "\u001b[1;31mRun the following command to install 'ipykernel' into the Python environment. \n",
      "\u001b[1;31mCommand: '/usr/local/bin/python3 -m pip install ipykernel -U --user --force-reinstall'"
     ]
    }
   ],
   "source": []
  }
 ],
 "metadata": {
  "kernelspec": {
   "display_name": "Python 3 (ipykernel)",
   "language": "python",
   "name": "python3"
  },
  "language_info": {
   "codemirror_mode": {
    "name": "ipython",
    "version": 3
   },
   "file_extension": ".py",
   "mimetype": "text/x-python",
   "name": "python",
   "nbconvert_exporter": "python",
   "pygments_lexer": "ipython3",
   "version": "3.12.3"
  },
  "vscode": {
   "interpreter": {
    "hash": "aee8b7b246df8f9039afb4144a1f6fd8d2ca17a180786b69acc140d282b71a49"
   }
  }
 },
 "nbformat": 4,
 "nbformat_minor": 4
}
