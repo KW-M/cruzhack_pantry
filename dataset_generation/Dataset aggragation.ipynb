{
    "cells": [
        {
            "cell_type": "markdown",
            "id": "3c45e0e8-7423-4b71-8048-175b0373b7a2",
            "metadata": {},
            "source": [
                "# Dataset aggragation into one parquet file"
            ]
        },
        {
            "cell_type": "code",
            "execution_count": null,
            "id": "6d978f15-421a-4074-8a9c-48f246b7015b",
            "metadata": {
                "tags": []
            },
            "outputs": [],
            "source": [
                "import numpy as np # linear algebra\n",
                "import os # accessing directory structure\n",
                "import pandas as pd # data processing, CSV file I/O (e.g. pd.read_csv)\n",
                "import hvplot.pandas  # noqa\n",
                "import json\n",
                "import ast\n",
                "import random\n",
                "from fastparquet import write\n",
                "hvplot.extension(\"bokeh\")"
            ]
        },
        {
            "cell_type": "code",
            "execution_count": 44,
            "id": "ecb64d42-c96c-4029-82c4-f60be6ece938",
            "metadata": {
                "tags": []
            },
            "outputs": [],
            "source": [
                "output_table = pd.DataFrame(columns=[\"title\",\"ingredients\",\"directions\",\"keywords\"])"
            ]
        },
        {
            "cell_type": "markdown",
            "id": "eba19638-d500-4505-8fa4-c50e46de5235",
            "metadata": {},
            "source": [
                "## Food.com - Recipes"
            ]
        },
        {
            "cell_type": "code",
            "execution_count": null,
            "id": "786c26ed-0167-4403-9c93-8f008dd79c74",
            "metadata": {
                "tags": []
            },
            "outputs": [],
            "source": [
                "# Gather necessary rows for external application \n",
                "food_com_recipes = pd.read_parquet('./receipe_datasets/food.com/recipes.parquet')\n",
                "nRow, nCol = food_com_recipes.shape\n",
                "print(f'food_com_recipes: There are {nRow} rows and {nCol} columns')\n",
                "print(food_com_recipes.dtypes)"
            ]
        },
        {
            "cell_type": "code",
            "execution_count": 35,
            "id": "3ddcb444-f627-4c36-b585-69fca7018f4c",
            "metadata": {
                "tags": []
            },
            "outputs": [
                {
                    "name": "stdout",
                    "output_type": "stream",
                    "text": [
                        "['Low-Fat Berry Blue Frozen Dessert', ['blueberries', 'granulated sugar', 'vanilla yogurt', 'lemon juice'], ['Toss 2 cups berries with sugar.', 'Let stand for 45 minutes, stirring occasionally.', 'Transfer berry-sugar mixture to food processor.', 'Add yogurt and process until smooth.', \"Strain through fine sieve. Pour into baking pan (or transfer to ice cream maker and process according to manufacturers' directions). Freeze uncovered until edges are solid but centre is soft.  Transfer to processor and blend until smooth again.\", 'Return to pan and freeze until edges are solid.', 'Transfer to processor and blend until smooth again.', 'Fold in remaining 2 cups of blueberries.', 'Pour into plastic mold and freeze overnight. Let soften slightly to serve.'], ['Dessert', 'Low Protein', 'Low Cholesterol', 'Healthy', 'Free Of...', 'Summer', 'Weeknight', 'Freezer', 'Easy']]\n"
                    ]
                },
                {
                    "data": {
                        "text/html": [
                            "<div>\n",
                            "<style scoped>\n",
                            "    .dataframe tbody tr th:only-of-type {\n",
                            "        vertical-align: middle;\n",
                            "    }\n",
                            "\n",
                            "    .dataframe tbody tr th {\n",
                            "        vertical-align: top;\n",
                            "    }\n",
                            "\n",
                            "    .dataframe thead th {\n",
                            "        text-align: right;\n",
                            "    }\n",
                            "</style>\n",
                            "<table border=\"1\" class=\"dataframe\">\n",
                            "  <thead>\n",
                            "    <tr style=\"text-align: right;\">\n",
                            "      <th></th>\n",
                            "      <th>title</th>\n",
                            "      <th>ingredients</th>\n",
                            "      <th>directions</th>\n",
                            "      <th>keywords</th>\n",
                            "    </tr>\n",
                            "  </thead>\n",
                            "  <tbody>\n",
                            "    <tr>\n",
                            "      <th>0</th>\n",
                            "      <td>Low-Fat Berry Blue Frozen Dessert</td>\n",
                            "      <td>[blueberries, granulated sugar, vanilla yogurt...</td>\n",
                            "      <td>[Toss 2 cups berries with sugar., Let stand fo...</td>\n",
                            "      <td>[Dessert, Low Protein, Low Cholesterol, Health...</td>\n",
                            "    </tr>\n",
                            "    <tr>\n",
                            "      <th>1</th>\n",
                            "      <td>Biryani</td>\n",
                            "      <td>[saffron, milk, hot green chili peppers, onion...</td>\n",
                            "      <td>[Soak saffron in warm milk for 5 minutes and p...</td>\n",
                            "      <td>[Chicken Thigh &amp; Leg, Chicken, Poultry, Meat, ...</td>\n",
                            "    </tr>\n",
                            "    <tr>\n",
                            "      <th>2</th>\n",
                            "      <td>Best Lemonade</td>\n",
                            "      <td>[sugar, lemons, rind of, lemon, zest of, fresh...</td>\n",
                            "      <td>[Into a 1 quart Jar with tight fitting lid, pu...</td>\n",
                            "      <td>[Low Protein, Low Cholesterol, Healthy, Summer...</td>\n",
                            "    </tr>\n",
                            "    <tr>\n",
                            "      <th>3</th>\n",
                            "      <td>Carina's Tofu-Vegetable Kebabs</td>\n",
                            "      <td>[extra firm tofu, eggplant, zucchini, mushroom...</td>\n",
                            "      <td>[Drain the tofu, carefully squeezing out exces...</td>\n",
                            "      <td>[Beans, Vegetable, Low Cholesterol, Weeknight,...</td>\n",
                            "    </tr>\n",
                            "    <tr>\n",
                            "      <th>4</th>\n",
                            "      <td>Cabbage Soup</td>\n",
                            "      <td>[plain tomato juice, cabbage, onion, carrots, ...</td>\n",
                            "      <td>[Mix everything together and bring to a boil.,...</td>\n",
                            "      <td>[Low Protein, Vegan, Low Cholesterol, Healthy,...</td>\n",
                            "    </tr>\n",
                            "  </tbody>\n",
                            "</table>\n",
                            "</div>"
                        ],
                        "text/plain": [
                            "                               title  \\\n",
                            "0  Low-Fat Berry Blue Frozen Dessert   \n",
                            "1                            Biryani   \n",
                            "2                      Best Lemonade   \n",
                            "3     Carina's Tofu-Vegetable Kebabs   \n",
                            "4                       Cabbage Soup   \n",
                            "\n",
                            "                                         ingredients  \\\n",
                            "0  [blueberries, granulated sugar, vanilla yogurt...   \n",
                            "1  [saffron, milk, hot green chili peppers, onion...   \n",
                            "2  [sugar, lemons, rind of, lemon, zest of, fresh...   \n",
                            "3  [extra firm tofu, eggplant, zucchini, mushroom...   \n",
                            "4  [plain tomato juice, cabbage, onion, carrots, ...   \n",
                            "\n",
                            "                                          directions  \\\n",
                            "0  [Toss 2 cups berries with sugar., Let stand fo...   \n",
                            "1  [Soak saffron in warm milk for 5 minutes and p...   \n",
                            "2  [Into a 1 quart Jar with tight fitting lid, pu...   \n",
                            "3  [Drain the tofu, carefully squeezing out exces...   \n",
                            "4  [Mix everything together and bring to a boil.,...   \n",
                            "\n",
                            "                                            keywords  \n",
                            "0  [Dessert, Low Protein, Low Cholesterol, Health...  \n",
                            "1  [Chicken Thigh & Leg, Chicken, Poultry, Meat, ...  \n",
                            "2  [Low Protein, Low Cholesterol, Healthy, Summer...  \n",
                            "3  [Beans, Vegetable, Low Cholesterol, Weeknight,...  \n",
                            "4  [Low Protein, Vegan, Low Cholesterol, Healthy,...  "
                        ]
                    },
                    "execution_count": 35,
                    "metadata": {},
                    "output_type": "execute_result"
                }
            ],
            "source": [
                "for i in range(0, nCol):\n",
                "    title = str(food_com_recipes.loc[i, 'Name'])\n",
                "    ingredients = food_com_recipes.loc[i, 'RecipeIngredientParts']\n",
                "    directions = food_com_recipes.loc[i, 'RecipeInstructions']\n",
                "    keywords = food_com_recipes.loc[i, 'Keywords']\n",
                "    # tmp_df = {'title': title, 'ingredients': ingredients, 'directions': directions, 'keywords':keywords}\n",
                "    tmp_df = [ title,  ingredients, directions, keywords ]\n",
                "    output_table.loc[len(output_table)] = tmp_df\n",
                "    if(i == 0):\n",
                "        print(tmp_df)\n",
                "\n",
                "output_table.head()"
            ]
        },
        {
            "cell_type": "markdown",
            "id": "4f20c42b-1455-4794-8dc2-f23f1c869d3e",
            "metadata": {},
            "source": [
                "## Epicurious.com - Recipes"
            ]
        },
        {
            "cell_type": "code",
            "execution_count": 40,
            "id": "07291dfc-5359-437c-ab8b-ee9b3a9d3a78",
            "metadata": {
                "tags": []
            },
            "outputs": [
                {
                    "name": "stdout",
                    "output_type": "stream",
                    "text": [
                        "epicurious_recipes: There are 13501 rows and 6 columns\n",
                        "Unnamed: 0              int64\n",
                        "Title                  object\n",
                        "Ingredients            object\n",
                        "Instructions           object\n",
                        "Image_Name             object\n",
                        "Cleaned_Ingredients    object\n",
                        "dtype: object\n"
                    ]
                }
            ],
            "source": [
                "# Food Ingredients and Recipe Dataset with Image Name Mapping.csv may have more rows in reality, but we are only loading/previewing the first 1000 rows\n",
                "epicurious_recipes = pd.read_csv('./receipe_datasets/Epicurious Recepies Kagle.csv', delimiter=',')\n",
                "nRow, nCol = epicurious_recipes.shape\n",
                "print(f'epicurious_recipes: There are {nRow} rows and {nCol} columns')\n",
                "print(epicurious_recipes.dtypes)"
            ]
        },
        {
            "cell_type": "code",
            "execution_count": 45,
            "id": "8a3b85a6-aa7a-4877-ac84-6b55abd58b6e",
            "metadata": {
                "tags": []
            },
            "outputs": [
                {
                    "name": "stdout",
                    "output_type": "stream",
                    "text": [
                        "['Miso-Butter Roast Chicken With Acorn Squash Panzanella', ['1 (3½–4-lb.) whole chicken', '2¾ tsp. kosher salt, divided, plus more', '2 small acorn squash (about 3 lb. total)', '2 Tbsp. finely chopped sage', '1 Tbsp. finely chopped rosemary', '6 Tbsp. unsalted butter, melted, plus 3 Tbsp. room temperature', '¼ tsp. ground allspice', 'Pinch of crushed red pepper flakes', 'Freshly ground black pepper', '⅓ loaf good-quality sturdy white bread, torn into 1\" pieces (about 2½ cups)', '2 medium apples (such as Gala or Pink Lady; about 14 oz. total), cored, cut into 1\" pieces', '2 Tbsp. extra-virgin olive oil', '½ small red onion, thinly sliced', '3 Tbsp. apple cider vinegar', '1 Tbsp. white miso', '¼ cup all-purpose flour', '2 Tbsp. unsalted butter, room temperature', '¼ cup dry white wine', '2 cups unsalted chicken broth', '2 tsp. white miso', 'Kosher salt', 'freshly ground pepper'], ['Pat chicken dry with paper towels, season all over with 2 tsp. salt, and tie legs together with kitchen twine. Let sit at room temperature 1 hour.', 'Meanwhile, halve squash and scoop out seeds. Run a vegetable peeler along ridges of squash halves to remove skin. Cut each half into ½\"-thick wedges; arrange on a rimmed baking sheet.', 'Combine sage, rosemary, and 6 Tbsp. melted butter in a large bowl; pour half of mixture over squash on baking sheet. Sprinkle squash with allspice, red pepper flakes, and ½ tsp. salt and season with black pepper; toss to coat.', 'Add bread, apples, oil, and ¼ tsp. salt to remaining herb butter in bowl; season with black pepper and toss to combine. Set aside.', 'Place onion and vinegar in a small bowl; season with salt and toss to coat. Let sit, tossing occasionally, until ready to serve.', 'Place a rack in middle and lower third of oven; preheat to 425°F. Mix miso and 3 Tbsp. room-temperature butter in a small bowl until smooth. Pat chicken dry with paper towels, then rub or brush all over with miso butter. Place chicken in a large cast-iron skillet and roast on middle rack until an instant-read thermometer inserted into the thickest part of breast registers 155°F, 50–60 minutes. (Temperature will climb to 165°F while chicken rests.) Let chicken rest in skillet at least 5 minutes, then transfer to a plate; reserve skillet.', 'Meanwhile, roast squash on lower rack until mostly tender, about 25 minutes. Remove from oven and scatter reserved bread mixture over, spreading into as even a layer as you can manage. Return to oven and roast until bread is golden brown and crisp and apples are tender, about 15 minutes. Remove from oven, drain pickled onions, and toss to combine. Transfer to a serving dish.', 'Using your fingers, mash flour and butter in a small bowl to combine.', 'Set reserved skillet with chicken drippings over medium heat. You should have about ¼ cup, but a little over or under is all good. (If you have significantly more, drain off and set excess aside.) Add wine and cook, stirring often and scraping up any browned bits with a wooden spoon, until bits are loosened and wine is reduced by about half (you should be able to smell the wine), about 2 minutes. Add butter mixture; cook, stirring often, until a smooth paste forms, about 2 minutes. Add broth and any reserved drippings and cook, stirring constantly, until combined and thickened, 6–8 minutes. Remove from heat and stir in miso. Taste and season with salt and black pepper.', 'Serve chicken with gravy and squash panzanella alongside.'], []]\n"
                    ]
                },
                {
                    "data": {
                        "text/html": [
                            "<div>\n",
                            "<style scoped>\n",
                            "    .dataframe tbody tr th:only-of-type {\n",
                            "        vertical-align: middle;\n",
                            "    }\n",
                            "\n",
                            "    .dataframe tbody tr th {\n",
                            "        vertical-align: top;\n",
                            "    }\n",
                            "\n",
                            "    .dataframe thead th {\n",
                            "        text-align: right;\n",
                            "    }\n",
                            "</style>\n",
                            "<table border=\"1\" class=\"dataframe\">\n",
                            "  <thead>\n",
                            "    <tr style=\"text-align: right;\">\n",
                            "      <th></th>\n",
                            "      <th>title</th>\n",
                            "      <th>ingredients</th>\n",
                            "      <th>directions</th>\n",
                            "      <th>keywords</th>\n",
                            "    </tr>\n",
                            "  </thead>\n",
                            "  <tbody>\n",
                            "    <tr>\n",
                            "      <th>0</th>\n",
                            "      <td>Miso-Butter Roast Chicken With Acorn Squash Pa...</td>\n",
                            "      <td>[1 (3½–4-lb.) whole chicken, 2¾ tsp. kosher sa...</td>\n",
                            "      <td>[Pat chicken dry with paper towels, season all...</td>\n",
                            "      <td>[]</td>\n",
                            "    </tr>\n",
                            "    <tr>\n",
                            "      <th>1</th>\n",
                            "      <td>Crispy Salt and Pepper Potatoes</td>\n",
                            "      <td>[2 large egg whites, 1 pound new potatoes (abo...</td>\n",
                            "      <td>[Preheat oven to 400°F and line a rimmed bakin...</td>\n",
                            "      <td>[]</td>\n",
                            "    </tr>\n",
                            "    <tr>\n",
                            "      <th>2</th>\n",
                            "      <td>Thanksgiving Mac and Cheese</td>\n",
                            "      <td>[1 cup evaporated milk, 1 cup whole milk, 1 ts...</td>\n",
                            "      <td>[Place a rack in middle of oven; preheat to 40...</td>\n",
                            "      <td>[]</td>\n",
                            "    </tr>\n",
                            "    <tr>\n",
                            "      <th>3</th>\n",
                            "      <td>Italian Sausage and Bread Stuffing</td>\n",
                            "      <td>[1 (¾- to 1-pound) round Italian loaf, cut int...</td>\n",
                            "      <td>[Preheat oven to 350°F with rack in middle. Ge...</td>\n",
                            "      <td>[]</td>\n",
                            "    </tr>\n",
                            "    <tr>\n",
                            "      <th>4</th>\n",
                            "      <td>Newton's Law</td>\n",
                            "      <td>[1 teaspoon dark brown sugar, 1 teaspoon hot w...</td>\n",
                            "      <td>[Stir together brown sugar and hot water in a ...</td>\n",
                            "      <td>[]</td>\n",
                            "    </tr>\n",
                            "  </tbody>\n",
                            "</table>\n",
                            "</div>"
                        ],
                        "text/plain": [
                            "                                               title  \\\n",
                            "0  Miso-Butter Roast Chicken With Acorn Squash Pa...   \n",
                            "1                    Crispy Salt and Pepper Potatoes   \n",
                            "2                        Thanksgiving Mac and Cheese   \n",
                            "3                 Italian Sausage and Bread Stuffing   \n",
                            "4                                       Newton's Law   \n",
                            "\n",
                            "                                         ingredients  \\\n",
                            "0  [1 (3½–4-lb.) whole chicken, 2¾ tsp. kosher sa...   \n",
                            "1  [2 large egg whites, 1 pound new potatoes (abo...   \n",
                            "2  [1 cup evaporated milk, 1 cup whole milk, 1 ts...   \n",
                            "3  [1 (¾- to 1-pound) round Italian loaf, cut int...   \n",
                            "4  [1 teaspoon dark brown sugar, 1 teaspoon hot w...   \n",
                            "\n",
                            "                                          directions keywords  \n",
                            "0  [Pat chicken dry with paper towels, season all...       []  \n",
                            "1  [Preheat oven to 400°F and line a rimmed bakin...       []  \n",
                            "2  [Place a rack in middle of oven; preheat to 40...       []  \n",
                            "3  [Preheat oven to 350°F with rack in middle. Ge...       []  \n",
                            "4  [Stir together brown sugar and hot water in a ...       []  "
                        ]
                    },
                    "execution_count": 45,
                    "metadata": {},
                    "output_type": "execute_result"
                }
            ],
            "source": [
                "for i in range(0, nCol):\n",
                "    title = str(epicurious_recipes.loc[i, 'Title'])\n",
                "    ingredients = ast.literal_eval(str(epicurious_recipes.loc[i, 'Cleaned_Ingredients']))\n",
                "    directions = str(epicurious_recipes.loc[i, 'Instructions']).split('\\n')\n",
                "    keywords = []\n",
                "    # tmp_df = {'title': title, 'ingredients': ingredients, 'directions': directions, 'keywords':keywords}\n",
                "    tmp_df = [ title,  ingredients, directions, keywords ]\n",
                "    output_table.loc[len(output_table)] = tmp_df\n",
                "    if(i == 0):\n",
                "        print(tmp_df)\n",
                "\n",
                "output_table.head()"
            ]
        },
        {
            "cell_type": "code",
            "execution_count": null,
            "id": "9402a687-d10a-4b9c-9f1f-bb548b29829c",
            "metadata": {},
            "outputs": [],
            "source": []
        }
    ],
    "metadata": {
        "kernelspec": {
            "display_name": "Python 3 (ipykernel)",
            "language": "python",
            "name": "python3"
        },
        "language_info": {
            "codemirror_mode": {
                "name": "ipython",
                "version": 3
            },
            "file_extension": ".py",
            "mimetype": "text/x-python",
            "name": "python",
            "nbconvert_exporter": "python",
            "pygments_lexer": "ipython3",
            "version": "3.10.9"
        }
    },
    "nbformat": 4,
    "nbformat_minor": 5
}
